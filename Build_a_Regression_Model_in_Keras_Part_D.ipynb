{
  "nbformat": 4,
  "nbformat_minor": 0,
  "metadata": {
    "colab": {
      "provenance": []
    },
    "kernelspec": {
      "name": "python3",
      "display_name": "Python 3"
    },
    "language_info": {
      "name": "python"
    }
  },
  "cells": [
    {
      "cell_type": "code",
      "execution_count": 44,
      "metadata": {
        "id": "bHGabjDn2FcP"
      },
      "outputs": [],
      "source": [
        "#Name: Yash Hooda\n",
        "#Date: 05/18/2024"
      ]
    },
    {
      "cell_type": "code",
      "source": [
        "#Import Libraries\n",
        "import numpy as np\n",
        "import pandas as pd\n",
        "from sklearn.model_selection import train_test_split\n",
        "from sklearn.metrics import mean_squared_error\n",
        "from sklearn.preprocessing import StandardScaler\n",
        "import tensorflow as tf\n",
        "from tensorflow.keras.models import Sequential\n",
        "from tensorflow.keras.layers import Dense\n",
        "from tensorflow.keras.optimizers import Adam"
      ],
      "metadata": {
        "id": "HRk4iDCh2QLH"
      },
      "execution_count": 47,
      "outputs": []
    },
    {
      "cell_type": "code",
      "source": [
        "# Ensure reproducibility\n",
        "np.random.seed(0)\n",
        "tf.random.set_seed(0)"
      ],
      "metadata": {
        "id": "V_BS0P6s24cq"
      },
      "execution_count": 48,
      "outputs": []
    },
    {
      "cell_type": "code",
      "source": [
        "data = pd.read_csv('concrete_data.csv')\n",
        "\n",
        "# Assume 'concrete_data.csv' has columns for features and the target 'strength'\n",
        "X = data.drop(columns=['Strength'])\n",
        "y = data['Strength']\n",
        "\n",
        "#Generate randomized data\n",
        "X = np.random.rand(100, 8)\n",
        "y = np.random.rand(100)\n",
        "\n",
        "# Normalize the data\n",
        "scaler = StandardScaler()\n",
        "X_normalized = scaler.fit_transform(X)"
      ],
      "metadata": {
        "id": "J6fyes7g3WVG"
      },
      "execution_count": 49,
      "outputs": []
    },
    {
      "cell_type": "code",
      "source": [
        "# Function to build the deeper model with three hidden layers\n",
        "def build_deeper_model():\n",
        "    model = Sequential()\n",
        "    model.add(Dense(10, input_dim=X_normalized.shape[1], activation='relu'))\n",
        "    model.add(Dense(10, activation='relu'))\n",
        "    model.add(Dense(10, activation='relu'))\n",
        "    model.add(Dense(1))  # Output layer for regression\n",
        "    model.compile(optimizer=Adam(), loss='mean_squared_error')\n",
        "    return model"
      ],
      "metadata": {
        "id": "SWcrzjgc3oq1"
      },
      "execution_count": 50,
      "outputs": []
    },
    {
      "cell_type": "code",
      "source": [
        "#Train, evaluate, and repeat for the deeper model\n",
        "mse_list_deeper_model = []\n",
        "\n",
        "for x in range(50):\n",
        "    # Split the data\n",
        "    X_train, X_test, y_train, y_test = train_test_split(X_normalized, y, test_size=0.3, random_state=np.random.randint(1000))\n",
        "\n",
        "    # Build the model\n",
        "    model = build_deeper_model()\n",
        "\n",
        "    # Train the model\n",
        "    model.fit(X_train, y_train, epochs=100, verbose=0)\n",
        "\n",
        "    # Predict on the test set\n",
        "    y_pred = model.predict(X_test)\n",
        "\n",
        "    # Calculate the mean squared error\n",
        "    mse = mean_squared_error(y_test, y_pred)\n",
        "    mse_list_deeper_model.append(mse)\n",
        "\n",
        "# Calculate mean and standard deviation of MSEs for the deeper model\n",
        "mean_mse_deeper_model = np.mean(mse_list_deeper_model)\n",
        "std_mse_deeper_model = np.std(mse_list_deeper_model)\n",
        "\n",
        "# Report the results for the deeper model\n",
        "print(f\"Mean MSE with deeper model (3 hidden layers, 100 epochs): {mean_mse_deeper_model}\")\n",
        "print(f\"Standard Deviation of MSE with deeper model (3 hidden layers, 100 epochs): {std_mse_deeper_model}\")"
      ],
      "metadata": {
        "colab": {
          "base_uri": "https://localhost:8080/"
        },
        "id": "y2h1cC3S3-81",
        "outputId": "6d473d4c-93b3-48a8-e42d-2721b33692bb"
      },
      "execution_count": 51,
      "outputs": [
        {
          "output_type": "stream",
          "name": "stdout",
          "text": [
            "1/1 [==============================] - 0s 72ms/step\n",
            "1/1 [==============================] - 0s 68ms/step\n",
            "1/1 [==============================] - 0s 93ms/step\n",
            "1/1 [==============================] - 0s 69ms/step\n",
            "1/1 [==============================] - 0s 71ms/step\n",
            "1/1 [==============================] - 0s 66ms/step\n",
            "1/1 [==============================] - 0s 70ms/step\n",
            "1/1 [==============================] - 0s 96ms/step\n",
            "1/1 [==============================] - 0s 64ms/step\n",
            "1/1 [==============================] - 0s 63ms/step\n",
            "1/1 [==============================] - 0s 63ms/step\n",
            "1/1 [==============================] - 0s 64ms/step\n",
            "1/1 [==============================] - 0s 63ms/step\n",
            "1/1 [==============================] - 0s 62ms/step\n",
            "1/1 [==============================] - 0s 96ms/step\n",
            "1/1 [==============================] - 0s 328ms/step\n",
            "1/1 [==============================] - 0s 64ms/step\n",
            "1/1 [==============================] - 0s 63ms/step\n",
            "1/1 [==============================] - 0s 60ms/step\n",
            "1/1 [==============================] - 0s 123ms/step\n",
            "1/1 [==============================] - 0s 62ms/step\n",
            "1/1 [==============================] - 0s 63ms/step\n",
            "1/1 [==============================] - 0s 62ms/step\n",
            "1/1 [==============================] - 0s 66ms/step\n",
            "1/1 [==============================] - 0s 88ms/step\n",
            "1/1 [==============================] - 0s 90ms/step\n",
            "1/1 [==============================] - 0s 60ms/step\n",
            "1/1 [==============================] - 0s 61ms/step\n",
            "1/1 [==============================] - 0s 61ms/step\n",
            "1/1 [==============================] - 0s 62ms/step\n",
            "1/1 [==============================] - 0s 62ms/step\n",
            "1/1 [==============================] - 0s 129ms/step\n",
            "1/1 [==============================] - 0s 63ms/step\n",
            "1/1 [==============================] - 0s 63ms/step\n",
            "1/1 [==============================] - 0s 60ms/step\n",
            "1/1 [==============================] - 0s 61ms/step\n",
            "1/1 [==============================] - 0s 61ms/step\n",
            "1/1 [==============================] - 0s 102ms/step\n",
            "1/1 [==============================] - 0s 64ms/step\n",
            "1/1 [==============================] - 0s 62ms/step\n",
            "1/1 [==============================] - 0s 64ms/step\n",
            "1/1 [==============================] - 0s 95ms/step\n",
            "1/1 [==============================] - 0s 62ms/step\n",
            "1/1 [==============================] - 0s 61ms/step\n",
            "1/1 [==============================] - 0s 111ms/step\n",
            "1/1 [==============================] - 0s 71ms/step\n",
            "1/1 [==============================] - 0s 71ms/step\n",
            "1/1 [==============================] - 0s 60ms/step\n",
            "1/1 [==============================] - 0s 251ms/step\n",
            "1/1 [==============================] - 0s 73ms/step\n",
            "Mean MSE with deeper model (3 hidden layers, 100 epochs): 0.11104094408086064\n",
            "Standard Deviation of MSE with deeper model (3 hidden layers, 100 epochs): 0.025162393053088327\n"
          ]
        }
      ]
    },
    {
      "cell_type": "code",
      "source": [
        "#Assuming the previous results are stored in variables\n",
        "mean_mse_50 = 0.11105479357070625\n",
        "std_mse_50 = 0.029451897726780897\n",
        "mean_mse_100_epochs = 0.10738609438513898\n",
        "std_mse_100_epochs = 0.027771548972188337\n",
        "\n",
        "print(f\"Mean MSE with normalized data with 50 epochs: {mean_mse_50}\")\n",
        "print(f\"Standard Deviation of MSE with normalized data with 50 epochs: {std_mse_50}\")\n",
        "\n",
        "print(f\"Mean MSE with normalized data with 100 epochs: {mean_mse_100_epochs}\")\n",
        "print(f\"Standard Deviation of MSE with normalized data with 100 epochs: {std_mse_100_epochs}\")\n",
        "\n",
        "print(f\"Mean MSE with deeper model (3 hidden layers, 100 epochs): {mean_mse_deeper_model}\")\n",
        "print(f\"Standard Deviation of MSE with deeper model (3 hidden layers, 100 epochs): {std_mse_deeper_model}\")"
      ],
      "metadata": {
        "colab": {
          "base_uri": "https://localhost:8080/"
        },
        "id": "k6g2EcPx5CZn",
        "outputId": "38c8ac22-aabc-48f1-b136-8d591ca32de4"
      },
      "execution_count": 53,
      "outputs": [
        {
          "output_type": "stream",
          "name": "stdout",
          "text": [
            "Mean MSE with normalized data with 50 epochs: 0.11105479357070625\n",
            "Standard Deviation of MSE with normalized data with 50 epochs: 0.029451897726780897\n",
            "Mean MSE with normalized data with 100 epochs: 0.10738609438513898\n",
            "Standard Deviation of MSE with normalized data with 100 epochs: 0.027771548972188337\n",
            "Mean MSE with deeper model (3 hidden layers, 100 epochs): 0.11104094408086064\n",
            "Standard Deviation of MSE with deeper model (3 hidden layers, 100 epochs): 0.025162393053088327\n"
          ]
        }
      ]
    },
    {
      "cell_type": "code",
      "source": [],
      "metadata": {
        "id": "5Yl7_ZMM7FEQ"
      },
      "execution_count": null,
      "outputs": []
    }
  ]
}