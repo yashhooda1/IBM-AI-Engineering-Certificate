{
  "cells": [
    {
      "cell_type": "markdown",
      "metadata": {
        "id": "5826ca4c-ace2-4d8d-b803-2353ef09d631"
      },
      "source": [
        "<p style=\"text-align:center\">\n",
        "    <a href=\"https://skills.network/?utm_medium=Exinfluencer&utm_source=Exinfluencer&utm_content=000026UJ&utm_term=10006555&utm_id=NA-SkillsNetwork-Channel-SkillsNetworkCoursesIBMDeveloperSkillsNetworkCV0101ENCoursera872-2023-01-01\">\n",
        "    <img src=\"https://cf-courses-data.s3.us.cloud-object-storage.appdomain.cloud/assets/logos/SN_web_lightmode.png\" width=\"200\" alt=\"Skills Network Logo\"  />\n",
        "    </a>\n",
        "</p>\n"
      ]
    },
    {
      "cell_type": "markdown",
      "metadata": {
        "id": "9fef4140-42b0-4abd-ae03-0a702405f6a4"
      },
      "source": [
        "<h1>Neural Network Rectified Linear Unit (ReLU) vs Sigmoid</h1>\n"
      ]
    },
    {
      "cell_type": "markdown",
      "metadata": {
        "id": "0a2eea2b-6127-44f6-b4e2-f33cf72d8e7f"
      },
      "source": [
        "\n",
        "<h3>Objective for this Notebook<h3>    \n",
        "<h5> 1. Define Several Neural Network, Criterion function, Optimizer.</h5>\n",
        "<h5> 2. Test Sigmoid and Relu. </h5>\n",
        "<h5> 3. Analyze Results. </h5>     \n"
      ]
    },
    {
      "cell_type": "markdown",
      "metadata": {
        "id": "9ff0410f-ac38-4423-b660-e7c999db778e"
      },
      "source": [
        "<h2>Table of Contents</h2>\n",
        "<p>In this lab, you will test Sigmoid and Relu activation functions on the MNIST dataset with two hidden Layers.</p>\n",
        "\n",
        "<ul>\n",
        "    <li><a href=\"#Model\">Neural Network Module and Training Function</a></li>\n",
        "    <li><a href=\"#Makeup_Data\">Make Some Data</a></li>\n",
        "    <li><a href=\"#Train\">Define Several Neural Network, Criterion function, Optimizer</a></li>\n",
        "    <li><a href=\"#Test\">Test Sigmoid and Relu </a></li>\n",
        "    <li><a href=\"#Result\">Analyze Results</a></li>\n",
        "</ul>\n",
        "<p>Estimated Time Needed: <strong>25 min</strong></p>\n",
        "\n",
        "<hr>\n"
      ]
    },
    {
      "cell_type": "markdown",
      "metadata": {
        "id": "d9600e55-3e5c-4f5d-a1f7-738f8499d3c6"
      },
      "source": [
        "We'll need the following libraries\n"
      ]
    },
    {
      "cell_type": "code",
      "metadata": {
        "colab": {
          "base_uri": "https://localhost:8080/"
        },
        "id": "a2d275dc-48db-47df-ab5a-56c230f7e64c",
        "outputId": "43958355-b1de-41f5-9e29-b61b9f12cf11"
      },
      "outputs": [
        {
          "output_type": "stream",
          "name": "stdout",
          "text": [
            "Requirement already satisfied: torch in /usr/local/lib/python3.10/dist-packages (2.3.0+cu121)\n",
            "Requirement already satisfied: torchvision in /usr/local/lib/python3.10/dist-packages (0.18.0+cu121)\n",
            "Requirement already satisfied: torchaudio in /usr/local/lib/python3.10/dist-packages (2.3.0+cu121)\n",
            "Requirement already satisfied: filelock in /usr/local/lib/python3.10/dist-packages (from torch) (3.14.0)\n",
            "Requirement already satisfied: typing-extensions>=4.8.0 in /usr/local/lib/python3.10/dist-packages (from torch) (4.12.0)\n",
            "Requirement already satisfied: sympy in /usr/local/lib/python3.10/dist-packages (from torch) (1.12.1)\n",
            "Requirement already satisfied: networkx in /usr/local/lib/python3.10/dist-packages (from torch) (3.3)\n",
            "Requirement already satisfied: jinja2 in /usr/local/lib/python3.10/dist-packages (from torch) (3.1.4)\n",
            "Requirement already satisfied: fsspec in /usr/local/lib/python3.10/dist-packages (from torch) (2023.6.0)\n",
            "Requirement already satisfied: nvidia-cuda-nvrtc-cu12==12.1.105 in /usr/local/lib/python3.10/dist-packages (from torch) (12.1.105)\n",
            "Requirement already satisfied: nvidia-cuda-runtime-cu12==12.1.105 in /usr/local/lib/python3.10/dist-packages (from torch) (12.1.105)\n",
            "Requirement already satisfied: nvidia-cuda-cupti-cu12==12.1.105 in /usr/local/lib/python3.10/dist-packages (from torch) (12.1.105)\n",
            "Requirement already satisfied: nvidia-cudnn-cu12==8.9.2.26 in /usr/local/lib/python3.10/dist-packages (from torch) (8.9.2.26)\n",
            "Requirement already satisfied: nvidia-cublas-cu12==12.1.3.1 in /usr/local/lib/python3.10/dist-packages (from torch) (12.1.3.1)\n",
            "Requirement already satisfied: nvidia-cufft-cu12==11.0.2.54 in /usr/local/lib/python3.10/dist-packages (from torch) (11.0.2.54)\n",
            "Requirement already satisfied: nvidia-curand-cu12==10.3.2.106 in /usr/local/lib/python3.10/dist-packages (from torch) (10.3.2.106)\n",
            "Requirement already satisfied: nvidia-cusolver-cu12==11.4.5.107 in /usr/local/lib/python3.10/dist-packages (from torch) (11.4.5.107)\n",
            "Requirement already satisfied: nvidia-cusparse-cu12==12.1.0.106 in /usr/local/lib/python3.10/dist-packages (from torch) (12.1.0.106)\n",
            "Requirement already satisfied: nvidia-nccl-cu12==2.20.5 in /usr/local/lib/python3.10/dist-packages (from torch) (2.20.5)\n",
            "Requirement already satisfied: nvidia-nvtx-cu12==12.1.105 in /usr/local/lib/python3.10/dist-packages (from torch) (12.1.105)\n",
            "Requirement already satisfied: triton==2.3.0 in /usr/local/lib/python3.10/dist-packages (from torch) (2.3.0)\n",
            "Requirement already satisfied: nvidia-nvjitlink-cu12 in /usr/local/lib/python3.10/dist-packages (from nvidia-cusolver-cu12==11.4.5.107->torch) (12.5.40)\n",
            "Requirement already satisfied: numpy in /usr/local/lib/python3.10/dist-packages (from torchvision) (1.25.2)\n",
            "Requirement already satisfied: pillow!=8.3.*,>=5.3.0 in /usr/local/lib/python3.10/dist-packages (from torchvision) (9.4.0)\n",
            "Requirement already satisfied: MarkupSafe>=2.0 in /usr/local/lib/python3.10/dist-packages (from jinja2->torch) (2.1.5)\n",
            "Requirement already satisfied: mpmath<1.4.0,>=1.1.0 in /usr/local/lib/python3.10/dist-packages (from sympy->torch) (1.3.0)\n"
          ]
        }
      ],
      "source": [
        "!pip3 install torch torchvision torchaudio"
      ],
      "execution_count": 2
    },
    {
      "cell_type": "code",
      "metadata": {
        "colab": {
          "base_uri": "https://localhost:8080/"
        },
        "id": "75085f4c-1781-4a58-81a3-df53f0fcc271",
        "outputId": "69f39243-f8c9-4787-c453-21ecdac1a772"
      },
      "outputs": [
        {
          "output_type": "execute_result",
          "data": {
            "text/plain": [
              "<torch._C.Generator at 0x789234493690>"
            ]
          },
          "metadata": {},
          "execution_count": 5
        }
      ],
      "source": [
        "# Import the libraries we need for this lab\n",
        "\n",
        "# Using the following line code to install the torchvision library\n",
        "#!conda install -y torchvision\n",
        "\n",
        "# PyTorch Library\n",
        "import torch\n",
        "# PyTorch Neural Network\n",
        "import torch.nn as nn\n",
        "# Allows us to transform tensors\n",
        "import torchvision.transforms as transforms\n",
        "# Allows us to download datasets\n",
        "import torchvision.datasets as dsets\n",
        "# Allows us to use activation functions\n",
        "import torch.nn.functional as F\n",
        "# Used to graph data and loss curves\n",
        "import matplotlib.pylab as plt\n",
        "# Allows us to use arrays to manipulate and store data\n",
        "import numpy as np\n",
        "# Setting the seed will allow us to control randomness and give us reproducibility\n",
        "torch.manual_seed(2)"
      ],
      "execution_count": 5
    },
    {
      "cell_type": "markdown",
      "metadata": {
        "id": "752f080c-26b2-4895-bec5-751aae4e3512"
      },
      "source": [
        "<!--Empty Space for separating topics-->\n"
      ]
    },
    {
      "cell_type": "markdown",
      "metadata": {
        "id": "645056b9-5a20-4373-9338-9f12b40cb917"
      },
      "source": [
        "<h2 id=\"Model\">Neural Network Module and Training Function</h2>\n"
      ]
    },
    {
      "cell_type": "markdown",
      "metadata": {
        "id": "50af6491-7ba5-4115-b1f7-0171afbfc2c3"
      },
      "source": [
        "Define the neural network module or class, with two hidden Layers\n"
      ]
    },
    {
      "cell_type": "markdown",
      "metadata": {
        "id": "5666bd51-f7ff-4a9b-b0d3-209fa3c0bb2a"
      },
      "source": [
        "<img src=\"https://ibm.box.com/shared/static/5wtclahun0f70qlwkn2kxzh3amnbq4zg.png\" width=\"200\" alt=\"Neural Network Model\">\n"
      ]
    },
    {
      "cell_type": "code",
      "metadata": {
        "id": "0b39fc56-673a-4798-ae36-263384df5cfc"
      },
      "outputs": [],
      "source": [
        "# Create the model class using Sigmoid as the activation function\n",
        "\n",
        "class Net(nn.Module):\n",
        "\n",
        "    # Constructor\n",
        "    def __init__(self, D_in, H1, H2, D_out):\n",
        "        # D_in is the input size of the first layer (size of input layer)\n",
        "        # H1 is the output size of the first layer and input size of the second layer (size of first hidden layer)\n",
        "        # H2 is the outpout size of the second layer and the input size of the third layer (size of second hidden layer)\n",
        "        # D_out is the output size of the third layer (size of output layer)\n",
        "        super(Net, self).__init__()\n",
        "        self.linear1 = nn.Linear(D_in, H1)\n",
        "        self.linear2 = nn.Linear(H1, H2)\n",
        "        self.linear3 = nn.Linear(H2, D_out)\n",
        "\n",
        "    # Prediction\n",
        "    def forward(self,x):\n",
        "        # Puts x through the first layers then the sigmoid function\n",
        "        x = torch.sigmoid(self.linear1(x))\n",
        "        # Puts results of previous line through second layer then sigmoid function\n",
        "        x = torch.sigmoid(self.linear2(x))\n",
        "        # Puts result of previous line through third layer\n",
        "        x = self.linear3(x)\n",
        "        return x"
      ],
      "execution_count": 6
    },
    {
      "cell_type": "markdown",
      "metadata": {
        "id": "59bc7d90-bfbd-44fd-bb89-9f70c1819f0f"
      },
      "source": [
        "Define the class for the Relu activation function\n"
      ]
    },
    {
      "cell_type": "code",
      "metadata": {
        "id": "a55e065d-b1e5-4224-9d4f-6e8025599be3"
      },
      "outputs": [],
      "source": [
        "# Create the model class using Relu as the activation function\n",
        "\n",
        "class NetRelu(nn.Module):\n",
        "\n",
        "    # Constructor\n",
        "    def __init__(self, D_in, H1, H2, D_out):\n",
        "        # D_in is the input size of the first layer (size of input layer)\n",
        "        # H1 is the output size of the first layer and input size of the second layer (size of first hidden layer)\n",
        "        # H2 is the outpout size of the second layer and the input size of the third layer (size of second hidden layer)\n",
        "        # D_out is the output size of the third layer (size of output layer)\n",
        "        super(NetRelu, self).__init__()\n",
        "        self.linear1 = nn.Linear(D_in, H1)\n",
        "        self.linear2 = nn.Linear(H1, H2)\n",
        "        self.linear3 = nn.Linear(H2, D_out)\n",
        "\n",
        "    # Prediction\n",
        "    def forward(self, x):\n",
        "        # Puts x through the first layers then the relu function\n",
        "        x = torch.relu(self.linear1(x))\n",
        "        # Puts results of previous line through second layer then relu function\n",
        "        x = torch.relu(self.linear2(x))\n",
        "        # Puts result of previous line through third layer\n",
        "        x = self.linear3(x)\n",
        "        return x"
      ],
      "execution_count": 7
    },
    {
      "cell_type": "markdown",
      "metadata": {
        "id": "276df953-b2ab-40a8-9502-80ddff74a083"
      },
      "source": [
        "Define a function to  train the model, in this case, the function returns a Python dictionary to store the training loss and accuracy on the validation data\n"
      ]
    },
    {
      "cell_type": "code",
      "metadata": {
        "id": "ebac8906-b98a-4582-9605-560023f7776b"
      },
      "outputs": [],
      "source": [
        "# Model Training Function\n",
        "\n",
        "def train(model, criterion, train_loader, validation_loader, optimizer, epochs=100):\n",
        "    i = 0\n",
        "    useful_stuff = {'training_loss': [], 'validation_accuracy': []}\n",
        "    # Number of times we train on the entire training dataset\n",
        "    for epoch in range(epochs):\n",
        "        # For each batch in the train loader\n",
        "        for i, (x, y) in enumerate(train_loader):\n",
        "            # Resets the calculated gradient value, this must be done each time as it accumulates if we do not reset\n",
        "            optimizer.zero_grad()\n",
        "            # Makes a prediction on the image tensor by flattening it to a 1 by 28*28 tensor\n",
        "            z = model(x.view(-1, 28 * 28))\n",
        "            # Calculate the loss between the prediction and actual class\n",
        "            loss = criterion(z, y)\n",
        "            # Calculates the gradient value with respect to each weight and bias\n",
        "            loss.backward()\n",
        "            # Updates the weight and bias according to calculated gradient value\n",
        "            optimizer.step()\n",
        "            # Saves the loss\n",
        "            useful_stuff['training_loss'].append(loss.data.item())\n",
        "\n",
        "        # Counter to keep track of correct predictions\n",
        "        correct = 0\n",
        "        # For each batch in the validation dataset\n",
        "        for x, y in validation_loader:\n",
        "            # Make a prediction\n",
        "            z = model(x.view(-1, 28 * 28))\n",
        "            # Get the class that has the maximum value\n",
        "            _, label = torch.max(z, 1)\n",
        "            # Check if our prediction matches the actual class\n",
        "            correct += (label == y).sum().item()\n",
        "\n",
        "        # Saves the percent accuracy\n",
        "        accuracy = 100 * (correct / len(validation_dataset))\n",
        "        useful_stuff['validation_accuracy'].append(accuracy)\n",
        "\n",
        "    return useful_stuff"
      ],
      "execution_count": 8
    },
    {
      "cell_type": "markdown",
      "metadata": {
        "id": "9e3b14d0-dc8d-45ee-805b-3feffba05aee"
      },
      "source": [
        "<!--Empty Space for separating topics-->\n"
      ]
    },
    {
      "cell_type": "markdown",
      "metadata": {
        "id": "2cdca340-1075-4575-b496-0a5a39e9cd26"
      },
      "source": [
        "<h2 id=\"Makeup_Data\">Make Some Data</h2>\n"
      ]
    },
    {
      "cell_type": "markdown",
      "metadata": {
        "id": "319c4e7d-3e25-47cf-9ada-9b03d4569355"
      },
      "source": [
        "Load the training dataset by setting the parameters <code>train</code> to <code>True</code> and convert it to a tensor  by placing a transform object int the argument <code>transform</code>\n"
      ]
    },
    {
      "cell_type": "code",
      "metadata": {
        "colab": {
          "base_uri": "https://localhost:8080/"
        },
        "id": "90fddc29-fb5d-49ea-a152-9cf3313e95fa",
        "outputId": "1d95e9e5-7fcb-4885-87bf-f52de8777647"
      },
      "outputs": [
        {
          "output_type": "stream",
          "name": "stdout",
          "text": [
            "Downloading http://yann.lecun.com/exdb/mnist/train-images-idx3-ubyte.gz\n",
            "Failed to download (trying next):\n",
            "HTTP Error 403: Forbidden\n",
            "\n",
            "Downloading https://ossci-datasets.s3.amazonaws.com/mnist/train-images-idx3-ubyte.gz\n",
            "Downloading https://ossci-datasets.s3.amazonaws.com/mnist/train-images-idx3-ubyte.gz to ./data/MNIST/raw/train-images-idx3-ubyte.gz\n"
          ]
        },
        {
          "output_type": "stream",
          "name": "stderr",
          "text": [
            "100%|██████████| 9912422/9912422 [00:00<00:00, 18231258.85it/s]\n"
          ]
        },
        {
          "output_type": "stream",
          "name": "stdout",
          "text": [
            "Extracting ./data/MNIST/raw/train-images-idx3-ubyte.gz to ./data/MNIST/raw\n",
            "\n",
            "Downloading http://yann.lecun.com/exdb/mnist/train-labels-idx1-ubyte.gz\n",
            "Failed to download (trying next):\n",
            "HTTP Error 403: Forbidden\n",
            "\n",
            "Downloading https://ossci-datasets.s3.amazonaws.com/mnist/train-labels-idx1-ubyte.gz\n",
            "Downloading https://ossci-datasets.s3.amazonaws.com/mnist/train-labels-idx1-ubyte.gz to ./data/MNIST/raw/train-labels-idx1-ubyte.gz\n"
          ]
        },
        {
          "output_type": "stream",
          "name": "stderr",
          "text": [
            "100%|██████████| 28881/28881 [00:00<00:00, 507051.82it/s]\n"
          ]
        },
        {
          "output_type": "stream",
          "name": "stdout",
          "text": [
            "Extracting ./data/MNIST/raw/train-labels-idx1-ubyte.gz to ./data/MNIST/raw\n",
            "\n",
            "Downloading http://yann.lecun.com/exdb/mnist/t10k-images-idx3-ubyte.gz\n",
            "Failed to download (trying next):\n",
            "HTTP Error 403: Forbidden\n",
            "\n",
            "Downloading https://ossci-datasets.s3.amazonaws.com/mnist/t10k-images-idx3-ubyte.gz\n",
            "Downloading https://ossci-datasets.s3.amazonaws.com/mnist/t10k-images-idx3-ubyte.gz to ./data/MNIST/raw/t10k-images-idx3-ubyte.gz\n"
          ]
        },
        {
          "output_type": "stream",
          "name": "stderr",
          "text": [
            "100%|██████████| 1648877/1648877 [00:00<00:00, 4423526.29it/s]\n"
          ]
        },
        {
          "output_type": "stream",
          "name": "stdout",
          "text": [
            "Extracting ./data/MNIST/raw/t10k-images-idx3-ubyte.gz to ./data/MNIST/raw\n",
            "\n",
            "Downloading http://yann.lecun.com/exdb/mnist/t10k-labels-idx1-ubyte.gz\n",
            "Failed to download (trying next):\n",
            "HTTP Error 403: Forbidden\n",
            "\n",
            "Downloading https://ossci-datasets.s3.amazonaws.com/mnist/t10k-labels-idx1-ubyte.gz\n",
            "Downloading https://ossci-datasets.s3.amazonaws.com/mnist/t10k-labels-idx1-ubyte.gz to ./data/MNIST/raw/t10k-labels-idx1-ubyte.gz\n"
          ]
        },
        {
          "output_type": "stream",
          "name": "stderr",
          "text": [
            "100%|██████████| 4542/4542 [00:00<00:00, 4036128.98it/s]\n"
          ]
        },
        {
          "output_type": "stream",
          "name": "stdout",
          "text": [
            "Extracting ./data/MNIST/raw/t10k-labels-idx1-ubyte.gz to ./data/MNIST/raw\n",
            "\n"
          ]
        }
      ],
      "source": [
        "# Create the training dataset\n",
        "\n",
        "train_dataset = dsets.MNIST(root='./data', train=True, download=True, transform=transforms.ToTensor())"
      ],
      "execution_count": 9
    },
    {
      "cell_type": "markdown",
      "metadata": {
        "id": "0c9aa968-a59d-47e6-a49a-364572a24208"
      },
      "source": [
        "Load the testing dataset by setting the parameters <code>train</code> to <code>False</code> and convert it to a tensor  by placing a transform object int the argument <code>transform</code>\n"
      ]
    },
    {
      "cell_type": "code",
      "metadata": {
        "id": "7e18691f-16e0-4851-b4a1-ae310340678a"
      },
      "outputs": [],
      "source": [
        "# Create the validating dataset\n",
        "\n",
        "validation_dataset = dsets.MNIST(root='./data', train=False, download=True, transform=transforms.ToTensor())"
      ],
      "execution_count": 10
    },
    {
      "cell_type": "markdown",
      "metadata": {
        "id": "4115d7c8-c0ea-4301-acdd-12de5a7db671"
      },
      "source": [
        "Create the criterion function  \n"
      ]
    },
    {
      "cell_type": "code",
      "metadata": {
        "id": "fbdc4251-b701-4e0f-9f61-b67ba0c8cfe8"
      },
      "outputs": [],
      "source": [
        "# Create the criterion function\n",
        "\n",
        "criterion = nn.CrossEntropyLoss()"
      ],
      "execution_count": 11
    },
    {
      "cell_type": "markdown",
      "metadata": {
        "id": "18fc7e13-c8d7-4684-848f-3e45a724490d"
      },
      "source": [
        "Create the training-data loader and the validation-data loader object\n"
      ]
    },
    {
      "cell_type": "code",
      "metadata": {
        "id": "a23e1cbc-a419-43f8-ba5a-f67062eb31da"
      },
      "outputs": [],
      "source": [
        "# Create the training data loader and validation data loader object\n",
        "\n",
        "# Batch size is 2000 and shuffle=True means the data will be shuffled at every epoch\n",
        "train_loader = torch.utils.data.DataLoader(dataset=train_dataset, batch_size=2000, shuffle=True)\n",
        "# Batch size is 5000 and the data will not be shuffled at every epoch\n",
        "validation_loader = torch.utils.data.DataLoader(dataset=validation_dataset, batch_size=5000, shuffle=False)"
      ],
      "execution_count": 12
    },
    {
      "cell_type": "markdown",
      "metadata": {
        "id": "86010e6b-0fc1-4100-8cba-be7a32ce4399"
      },
      "source": [
        "<!--Empty Space for separating topics-->\n"
      ]
    },
    {
      "cell_type": "markdown",
      "metadata": {
        "id": "274e00c9-40a9-4aa1-9b2a-fb5995e22925"
      },
      "source": [
        "<h2 id=\"Train\">Define Neural Network, Criterion function, Optimizer and Train the Model</h2>\n"
      ]
    },
    {
      "cell_type": "markdown",
      "metadata": {
        "id": "462902f4-86b6-4d21-b595-f618f8a9b9e5"
      },
      "source": [
        "Create  the model with 100 hidden neurons  \n"
      ]
    },
    {
      "cell_type": "code",
      "metadata": {
        "id": "78729d82-311a-4545-8a81-6cd0a2cd9a76"
      },
      "outputs": [],
      "source": [
        "# Set the parameters to create the model\n",
        "\n",
        "input_dim = 28 * 28 # Diemension of an image\n",
        "hidden_dim1 = 50\n",
        "hidden_dim2 = 50\n",
        "output_dim = 10 # Number of classes"
      ],
      "execution_count": 13
    },
    {
      "cell_type": "markdown",
      "metadata": {
        "id": "201035e0-0c14-430e-a449-f4eac9128178"
      },
      "source": [
        "The epoch number in the video is 35. You can try 10 for now. If you try 35, it may take a long time.\n"
      ]
    },
    {
      "cell_type": "code",
      "metadata": {
        "id": "4017905a-202a-45e0-8f4f-3c5a7f841db8"
      },
      "outputs": [],
      "source": [
        "# Set the number of iterations\n",
        "\n",
        "cust_epochs = 10"
      ],
      "execution_count": 14
    },
    {
      "cell_type": "markdown",
      "metadata": {
        "id": "7fb62ef8-2ca9-42e4-8390-135cb167748d"
      },
      "source": [
        "<!--Empty Space for separating topics-->\n"
      ]
    },
    {
      "cell_type": "markdown",
      "metadata": {
        "id": "c226cca3-8fd7-4606-bf62-43bae0550105"
      },
      "source": [
        "<h2 id=\"Test\">Test Sigmoid and Relu</h2>\n"
      ]
    },
    {
      "cell_type": "markdown",
      "metadata": {
        "id": "04dc758a-14b8-4b7c-afef-fd69a7fdbc9f"
      },
      "source": [
        "Train the network using the Sigmoid activation function\n"
      ]
    },
    {
      "cell_type": "code",
      "metadata": {
        "id": "596712e3-5dc1-44d0-a0ca-5eb3fa4d7c13"
      },
      "outputs": [],
      "source": [
        "# Train the model with sigmoid function\n",
        "\n",
        "learning_rate = 0.01\n",
        "# Create an instance of the Net model\n",
        "model = Net(input_dim, hidden_dim1, hidden_dim2, output_dim)\n",
        "# Create an optimizer that updates model parameters using the learning rate and gradient\n",
        "optimizer = torch.optim.SGD(model.parameters(), lr=learning_rate)\n",
        "# Train the model\n",
        "training_results = train(model, criterion, train_loader, validation_loader, optimizer, epochs=cust_epochs)"
      ],
      "execution_count": 16
    },
    {
      "cell_type": "markdown",
      "metadata": {
        "id": "53c50652-42e9-46f4-b0ee-8a03febd5035"
      },
      "source": [
        "Train the network using the Relu activation function\n"
      ]
    },
    {
      "cell_type": "code",
      "metadata": {
        "id": "20e36016-2a82-49cf-9ab1-f33c54ad07b8"
      },
      "outputs": [],
      "source": [
        "# Train the model with relu function\n",
        "\n",
        "learning_rate = 0.01\n",
        "# Create an instance of the NetRelu model\n",
        "modelRelu = NetRelu(input_dim, hidden_dim1, hidden_dim2, output_dim)\n",
        "# Create an optimizer that updates model parameters using the learning rate and gradient\n",
        "optimizer = torch.optim.SGD(modelRelu.parameters(), lr=learning_rate)\n",
        "# Train the model\n",
        "training_results_relu = train(modelRelu, criterion, train_loader, validation_loader, optimizer, epochs=cust_epochs)"
      ],
      "execution_count": 17
    },
    {
      "cell_type": "markdown",
      "metadata": {
        "id": "87eca609-4c90-4c30-aa6e-d4110fa4666b"
      },
      "source": [
        "<!--Empty Space for separating topics-->\n"
      ]
    },
    {
      "cell_type": "markdown",
      "metadata": {
        "id": "6983611a-58d7-4eeb-9c7d-ee460081584b"
      },
      "source": [
        "<h2 id=\"Result\">Analyze Results</h2>\n"
      ]
    },
    {
      "cell_type": "markdown",
      "metadata": {
        "id": "08af51da-f769-48d6-9438-8d32e1579af1"
      },
      "source": [
        "Compare the training loss for each activation\n"
      ]
    },
    {
      "cell_type": "code",
      "metadata": {
        "colab": {
          "base_uri": "https://localhost:8080/",
          "height": 469
        },
        "id": "af250e5e-dd11-4b83-8ae2-ec728d02ab73",
        "outputId": "b6b5d7d9-2c9b-458c-f261-139b16e4c63b"
      },
      "outputs": [
        {
          "output_type": "execute_result",
          "data": {
            "text/plain": [
              "<matplotlib.legend.Legend at 0x78915bf48be0>"
            ]
          },
          "metadata": {},
          "execution_count": 18
        },
        {
          "output_type": "display_data",
          "data": {
            "text/plain": [
              "<Figure size 640x480 with 1 Axes>"
            ],
            "image/png": "[encoded data removed]"
          },
          "metadata": {}
        }
      ],
      "source": [
        "# Compare the training loss\n",
        "\n",
        "plt.plot(training_results['training_loss'], label='sigmoid')\n",
        "plt.plot(training_results_relu['training_loss'], label='relu')\n",
        "plt.ylabel('loss')\n",
        "plt.title('training loss iterations')\n",
        "plt.legend()"
      ],
      "execution_count": 18
    },
    {
      "cell_type": "markdown",
      "metadata": {
        "id": "d95942fe-0b4d-4469-a62e-02ee45a9a4ea"
      },
      "source": [
        "Compare the validation loss for each model  \n"
      ]
    },
    {
      "cell_type": "code",
      "metadata": {
        "colab": {
          "base_uri": "https://localhost:8080/",
          "height": 466
        },
        "id": "7ea64e59-fd8f-4506-9f2c-3e3b9a8823cf",
        "outputId": "64d47c1c-5657-45db-b08b-f9542bf10c7e"
      },
      "outputs": [
        {
          "output_type": "execute_result",
          "data": {
            "text/plain": [
              "<matplotlib.legend.Legend at 0x78915be7b6d0>"
            ]
          },
          "metadata": {},
          "execution_count": 19
        },
        {
          "output_type": "display_data",
          "data": {
            "text/plain": [
              "<Figure size 640x480 with 1 Axes>"
            ],
            "image/png": "[encoded data removed]"
          },
          "metadata": {}
        }
      ],
      "source": [
        "# Compare the validation loss\n",
        "\n",
        "plt.plot(training_results['validation_accuracy'], label = 'sigmoid')\n",
        "plt.plot(training_results_relu['validation_accuracy'], label = 'relu')\n",
        "plt.ylabel('validation accuracy')\n",
        "plt.xlabel('Iteration')\n",
        "plt.legend()"
      ],
      "execution_count": 19
    },
    {
      "cell_type": "markdown",
      "metadata": {
        "id": "2d0f7bb6-187a-4cf4-b2f9-677a3370dd34"
      },
      "source": [
        "\n",
        "\n",
        "<a href=\"https://dataplatform.cloud.ibm.com/registration/stepone?utm_source=Exinfluencer&utm_content=000026UJ&utm_id=NA-SkillsNetwork-Channel-SkillsNetworkCoursesIBMDeveloperSkillsNetworkCV0101ENCoursera872-2023-01-01&utm_medium=Exinfluencer&utm_term=10006555&context=cpdaas&apps=data_science_experience%2Cwatson_machine_learning\"><img src=\"https://cf-courses-data.s3.us.cloud-object-storage.appdomain.cloud/IBMDeveloperSkillsNetwork-DL0110EN-SkillsNetwork/Template/module%201/images/Watson_Studio.png\"></a>\n"
      ]
    },
    {
      "cell_type": "markdown",
      "metadata": {
        "id": "0596a079-9541-45b6-9782-be86d909fa28"
      },
      "source": [
        "<!--Empty Space for separating topics-->\n"
      ]
    },
    {
      "cell_type": "markdown",
      "metadata": {
        "id": "dff0066d-91d9-4076-b2b1-2583e4dd735b"
      },
      "source": [
        "<h2>About the Authors:</h2>\n",
        "\n",
        "<a href=\"https://www.linkedin.com/in/joseph-s-50398b136/?utm_medium=Exinfluencer&utm_source=Exinfluencer&utm_content=000026UJ&utm_term=10006555&utm_id=NA-SkillsNetwork-Channel-SkillsNetworkCoursesIBMDeveloperSkillsNetworkCV0101ENCoursera872-2023-01-01\">Joseph Santarcangelo</a> has a PhD in Electrical Engineering, his research focused on using machine learning, signal processing, and computer vision to determine how videos impact human cognition. Joseph has been working for IBM since he completed his PhD.\n"
      ]
    },
    {
      "cell_type": "markdown",
      "metadata": {
        "id": "26d61503-0bcd-4c27-8a6e-0eaaf3dc0c6f"
      },
      "source": [
        "Other contributors: <a href=\"https://www.linkedin.com/in/michelleccarey/?utm_medium=Exinfluencer&utm_source=Exinfluencer&utm_content=000026UJ&utm_term=10006555&utm_id=NA-SkillsNetwork-Channel-SkillsNetworkCoursesIBMDeveloperSkillsNetworkCV0101ENCoursera872-2023-01-01\">Michelle Carey</a>, <a href=\"www.linkedin.com/in/jiahui-mavis-zhou-a4537814a\">Mavis Zhou</a>\n"
      ]
    },
    {
      "cell_type": "markdown",
      "metadata": {
        "id": "c520af36-abb8-4b99-9b18-8e40622c724c"
      },
      "source": [
        "\n",
        "## Change Log\n",
        "\n",
        "|  Date (YYYY-MM-DD) |  Version | Changed By  |  Change Description |\n",
        "|---|---|---|---|\n",
        "| 2020-09-23  | 2.0  | Srishti  |  Migrated Lab to Markdown and added to course repo in GitLab |\n",
        "\n",
        "\n",
        "\n",
        "<hr>\n",
        "\n",
        "## <h3 align=\"center\"> © IBM Corporation 2020. All rights reserved. <h3/>\n"
      ]
    }
  ],
  "metadata": {
    "kernelspec": {
      "display_name": "Python",
      "language": "python",
      "name": "conda-env-python-py"
    },
    "language_info": {
      "name": ""
    },
    "colab": {
      "provenance": []
    }
  },
  "nbformat": 4,
  "nbformat_minor": 0
}